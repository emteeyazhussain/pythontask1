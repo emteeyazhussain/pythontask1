{
 "cells": [
  {
   "cell_type": "code",
   "execution_count": 1,
   "id": "a40f621e-f764-41d0-8109-ce58130e256c",
   "metadata": {},
   "outputs": [],
   "source": [
    "\n",
    "# Question2:\n",
    "\n",
    "def encryption(string):\n",
    "    string = string.replace('a','z').replace('b','y').replace('c','x').lower()\n",
    "    return \"$\".join(string.split())"
   ]
  },
  {
   "cell_type": "code",
   "execution_count": 2,
   "id": "b6884fc5-4acb-4551-9d9f-9e4f9ebde22c",
   "metadata": {},
   "outputs": [
    {
     "data": {
      "text/plain": [
       "'i$zm$z$dztz$sxientist'"
      ]
     },
     "execution_count": 2,
     "metadata": {},
     "output_type": "execute_result"
    }
   ],
   "source": [
    "encryption(\"i am a data scientist\")"
   ]
  },
  {
   "cell_type": "code",
   "execution_count": 4,
   "id": "adf3e58d-1970-4d4f-8113-1fd9a03f8d56",
   "metadata": {},
   "outputs": [
    {
     "name": "stdout",
     "output_type": "stream",
     "text": [
      "1\n",
      "2\n",
      "3\n",
      "4\n",
      "[44, 55, 66, True]\n",
      "False\n",
      "(34, 56, 78, 89, 34)\n",
      "{1, 2, 3}\n",
      "{1: 34, 'key2': [55, 67, 78, 89], 4: (45, 22, 61, 34)}\n",
      "[56, 'data science']\n",
      "Machine Learning\n"
     ]
    }
   ],
   "source": [
    "# Question1:\n",
    "\n",
    "list1 = [1,2,3,4, [44,55,66, True], False, (34,56,78,89,34), {1,2,3,3,2,1}, {1:34, \"key2\": [55, 67, 78, 89], 4: (45,\n",
    "22, 61, 34)}, [56, 'data science'], 'Machine Learning']\n",
    "for data in list1:\n",
    "    print(data)\n",
    "from functools import reduce\n",
    "integer= []\n",
    "def product_ls(list1):\n",
    "    for data in list1:\n",
    "        if type(data) == int:\n",
    "            integer.append(data)\n",
    "        elif type(data) == list:\n",
    "            for i in data:\n",
    "                if type(i) == int:\n",
    "                    integer.append(i)\n",
    "        elif type(data) == tuple:\n",
    "            for i in data:\n",
    "                if type(i) == int:\n",
    "                    integer.append(i)\n",
    "        elif type(data) == set:\n",
    "            for i in data:\n",
    "                integer.append(i)\n",
    "        elif type(data) == dict:\n",
    "            for i in data.items():\n",
    "                if type(i) == tuple:\n",
    "                    for j in i:\n",
    "                        if type(j) == int:\n",
    "                            integer.append(j)\n",
    "                        elif type(j) == list:\n",
    "                            for data in j:\n",
    "                                integer.append(data)\n",
    "                        elif type(j) == tuple:\n",
    "                            for data in j:\n",
    "                                integer.append(data)\n",
    "    return reduce((lambda x,y: x*y),integer)\n"
   ]
  },
  {
   "cell_type": "code",
   "execution_count": 5,
   "id": "9ae43d19-e605-47e8-a260-5faae788c8cb",
   "metadata": {},
   "outputs": [
    {
     "data": {
      "text/plain": [
       "4134711838987085478833841242112000"
      ]
     },
     "execution_count": 5,
     "metadata": {},
     "output_type": "execute_result"
    }
   ],
   "source": [
    "product_ls(list1)"
   ]
  },
  {
   "cell_type": "code",
   "execution_count": null,
   "id": "7d60a2d4-35b2-44d5-a79e-15ace12e36ee",
   "metadata": {},
   "outputs": [],
   "source": []
  }
 ],
 "metadata": {
  "kernelspec": {
   "display_name": "Python 3 (ipykernel)",
   "language": "python",
   "name": "python3"
  },
  "language_info": {
   "codemirror_mode": {
    "name": "ipython",
    "version": 3
   },
   "file_extension": ".py",
   "mimetype": "text/x-python",
   "name": "python",
   "nbconvert_exporter": "python",
   "pygments_lexer": "ipython3",
   "version": "3.10.8"
  }
 },
 "nbformat": 4,
 "nbformat_minor": 5
}
